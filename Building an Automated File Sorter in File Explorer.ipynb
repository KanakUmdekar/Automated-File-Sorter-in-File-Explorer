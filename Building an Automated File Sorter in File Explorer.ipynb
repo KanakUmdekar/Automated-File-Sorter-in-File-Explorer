{
 "cells": [
  {
   "cell_type": "code",
   "execution_count": 3,
   "id": "16864616",
   "metadata": {},
   "outputs": [],
   "source": [
    "import os, shutil\n"
   ]
  },
  {
   "cell_type": "code",
   "execution_count": 4,
   "id": "399b906b",
   "metadata": {},
   "outputs": [],
   "source": [
    "path = \"C:/Users/HP/Desktop/PortfolioProject/automatic folder/\""
   ]
  },
  {
   "cell_type": "code",
   "execution_count": 5,
   "id": "8869006d",
   "metadata": {},
   "outputs": [],
   "source": [
    "file_name = os.listdir(path)"
   ]
  },
  {
   "cell_type": "code",
   "execution_count": 6,
   "id": "833e0ecc",
   "metadata": {},
   "outputs": [],
   "source": [
    "folder_names = ['CSV Files', 'Image Files', 'Text Files']\n",
    "\n",
    "for loop in range(0,3):\n",
    "    \n",
    "    if not os.path.exists(path + folder_names[loop]):\n",
    "        print(path + folder_names[loop])\n",
    "        os.makedirs(path + folder_names[loop])"
   ]
  },
  {
   "cell_type": "code",
   "execution_count": 8,
   "id": "8e54bcc9",
   "metadata": {},
   "outputs": [],
   "source": [
    "for file in file_name:\n",
    "    if \".csv\" in file and not os.path.exists(path + \"CSV Files/\" + file):\n",
    "        shutil.move(path+file, path + \"CSV Files/\"+ file)\n",
    "    if \".txt\" in file and not os.path.exists(path + \"Text Files/\" + file):\n",
    "        shutil.move(path+file, path + \"Text Files/\"+ file)\n",
    "    if \".png\" in file and not os.path.exists(path + \"Image Files/\" + file):\n",
    "        shutil.move(path+file, path + \"Image Files/\"+ file)\n",
    "        "
   ]
  },
  {
   "cell_type": "code",
   "execution_count": null,
   "id": "a802e1a2",
   "metadata": {},
   "outputs": [],
   "source": []
  }
 ],
 "metadata": {
  "kernelspec": {
   "display_name": "Python 3 (ipykernel)",
   "language": "python",
   "name": "python3"
  },
  "language_info": {
   "codemirror_mode": {
    "name": "ipython",
    "version": 3
   },
   "file_extension": ".py",
   "mimetype": "text/x-python",
   "name": "python",
   "nbconvert_exporter": "python",
   "pygments_lexer": "ipython3",
   "version": "3.11.7"
  }
 },
 "nbformat": 4,
 "nbformat_minor": 5
}
